{
  "nbformat": 4,
  "nbformat_minor": 0,
  "metadata": {
    "colab": {
      "provenance": []
    },
    "kernelspec": {
      "name": "python3",
      "display_name": "Python 3"
    },
    "language_info": {
      "name": "python"
    }
  },
  "cells": [
    {
      "cell_type": "markdown",
      "source": [
        "#1. What is the difference between interpreted and compiled languages ?\n",
        "- Interpreted languages execute code line by line at runtime (e.g., Python, JavaScript), making them slower but more flexible.\n",
        "- Compiled languages translate the entire code into machine code before execution (e.g., C, C++), making them faster but less flexible.\n",
        "\n",
        "#2 What is exception handling in Python ?\n",
        "- Exception handling in Python is a mechanism to handle runtime errors and prevent program crashes. It uses the try, except, else, and finally blocks to catch and manage exceptions.\n",
        "- example :\n",
        "      try:\n",
        "      x = 10 / 0  # This will cause a ZeroDivisionError\n",
        "      except ZeroDivisionError:\n",
        "      print(\"Cannot divide by zero!\")\n",
        "\n",
        "#3 What is the purpose of the finally block in exception handling ?\n",
        "- The finally block in Python is used to execute code regardless of whether an exception occurs or not. It is typically used for cleanup tasks like closing files or releasing resources.\n",
        "- example\n",
        "        try:\n",
        "        file = open(\"example.txt\", \"r\")\n",
        "        content = file.read()\n",
        "        except FileNotFoundError:\n",
        "        print(\"File not found!\")\n",
        "        finally:\n",
        "        print(\"Closing file...\")\n",
        "        file.close()  # Ensures the file is closed\n",
        "\n",
        "#4 What is logging in Python ?\n",
        "- Logging in Python is the process of tracking events in a program to help with debugging, monitoring, and troubleshooting. The logging module provides different levels of logging messages: DEBUG, INFO, WARNING, ERROR, and CRITICAL.\n",
        "\n",
        "#5 What is the significance of the __del__ method in Python ?\n",
        "- The __del__ method in Python is a destructor that is automatically called when an object is about to be destroyed (garbage collected). It is used for cleanup tasks like closing files or releasing resources.\n",
        "- example:-\n",
        "          class Demo:\n",
        "          def __del__(self):\n",
        "          print(\"Object is being deleted\")\n",
        "          obj = Demo()\n",
        "          del obj\n",
        "\n",
        "#6 What is the difference between import and from ... import in Python ?\n",
        "- In Python, both import and from ... import are used to bring external modules or specific functions, classes, or variables from modules into your script, but they have key differences:\n",
        "1. Using import\n",
        "- Imports the whole module.\n",
        "- You need to reference the module name when accessing its attributes.\n",
        "2. Using from ... import\n",
        "- Imports specific functions, classes, or variables from a module.\n",
        "- You don’t need to prefix them with the module name.\n",
        "\n",
        "#7  How can you handle multiple exceptions in Python ?\n",
        "- 1. Using Multiple except Blocks\n",
        "You can catch different exceptions separately and handle them accordingly.\n",
        "          try:\n",
        "              x = int(\"abc\")  # ValueError\n",
        "              y = 10 / 0  # ZeroDivisionError\n",
        "          except ValueError:\n",
        "              print(\"A ValueError occurred: Invalid conversion.\")\n",
        "          except ZeroDivisionError:\n",
        "              print(\"A ZeroDivisionError occurred: Division by zero is not allowed.\")\n",
        "2. Using a Single except Block for Multiple Exceptions\n",
        "You can catch multiple exceptions in a single block using a tuple.\n",
        "\n",
        "      try:\n",
        "          x = int(\"abc\")  # ValueError\n",
        "          y = 10 / 0  # ZeroDivisionError\n",
        "          except (ValueError, ZeroDivisionError) as e:\n",
        "          print(f\"An error occurred: {e}\")\n",
        "\n",
        "3. Using except Exception to Catch All Errors\n",
        "Catches any kind of exception but should be used cautiously.\n",
        "\n",
        "        try:\n",
        "        x = int(\"abc\")  # ValueError\n",
        "        except Exception as e:\n",
        "4. Using finally Block\n",
        "The finally block always executes, regardless of whether an exception occurs.\n",
        "        try:\n",
        "        f = open(\"file.txt\", \"r\")\n",
        "        content = f.read()\n",
        "        except FileNotFoundError:\n",
        "        print(\"File not found!\")\n",
        "        finally:\n",
        "        print(\"Execution completed.\")  \n",
        "\n",
        "#8  What is the purpose of the with statement when handling files in Python?\n",
        "- Automatic File Closing → Ensures the file is closed properly after the block executes, even if an exception occurs.\n",
        "- Cleaner and More Readable Code → Reduces the need for explicit file.close(), making code concise.\n",
        "- Prevents Resource Leaks → Frees system resources automatically, avoiding issues in large applications.\n",
        "- Handles Exceptions Gracefully → Ensures files are closed even if an error occurs within the block.\n",
        "- Better File Handling Practice → Encourages the use of context managers for efficient resource management.\n",
        "\n",
        "\n",
        "#9  What is the difference between multithreading and multiprocessing ?\n",
        "1. Definition\n",
        "- Multithreading: Uses multiple threads within the same process to perform tasks concurrently.\n",
        "- Multiprocessing: Uses multiple processes, each running independently with its own memory space.\n",
        "2. Concurrency vs. Parallelism\n",
        "- Multithreading: Achieves concurrency, meaning tasks appear to run simultaneously but actually share CPU time.\n",
        "- Multiprocessing: Achieves true parallelism, where tasks run on separate CPU cores simultaneously.\n",
        "3. Best Use Cases\n",
        "- Multithreading: Ideal for I/O-bound tasks such as file operations, network requests, and database queries.\n",
        "- Multiprocessing: Best for CPU-bound tasks like large-scale computations, data processing, and deep learning.\n",
        "4. Memory Usage\n",
        "- Multithreading: Threads share the same memory space, making communication easy but increasing the risk of data corruption.\n",
        "- Multiprocessing: Each process has its own memory space, reducing conflicts but requiring more resources for inter-process communication.\n",
        "\n",
        "#10 What are the advantages of using logging in a program ?\n",
        "- Provides a systematic way to track and debug program execution.\n",
        "- Helps in monitoring application performance and identifying issues.\n",
        "- Supports different log levels to control the verbosity of logs.\n",
        "- Allows saving logs to files for future analysis.\n",
        "- Aids in auditing and security tracking of applications.\n",
        "\n",
        "#11 What is memory management in Python ?\n",
        "- Memory management in Python refers to the process of allocating and deallocating memory for objects dynamically.\n",
        "- Python has an automatic memory management system that includes garbage collection and reference counting.\n",
        "- The memory manager optimizes resource usage by handling memory allocation efficiently.\n",
        "\n",
        "#12 What are the basic steps involved in exception handling in Python ?\n",
        "- Try Block: Contains the code that may cause an exception.\n",
        "- Except Block: Handles the exception if it occurs.\n",
        "- Else Block: Executes if no exception occurs.\n",
        "- Finally Block: Executes regardless of whether an exception occurred or not.\n",
        "\n",
        "#13 Why is memory management important in Python ?\n",
        "- Ensures efficient use of memory resources and prevents memory leaks.\n",
        "- Improves application performance by freeing unused memory.\n",
        "- Reduces the risk of crashes due to excessive memory consumption.\n",
        "- Helps maintain stability in large-scale applications with high memory usage.\n",
        "\n",
        "#14 What is the role of try and except in exception handling ?\n",
        "- Try Block: Contains code that might generate an error.\n",
        "- Except Block: Catches and handles the error gracefully without breaking the program.\n",
        "- Prevents abrupt program termination by handling runtime errors.\n",
        "\n",
        "#15  How does Python's garbage collection system work ?\n",
        "- Uses reference counting to track object usage.\n",
        "- Implements a cyclic garbage collector to remove objects involved in reference cycles.\n",
        "- Frees up unused memory automatically to optimize resource usage.\n",
        "- Can be manually triggered using gc.collect().\n",
        "\n",
        "#16  What is the purpose of the else block in exception handling ?\n",
        "- Executes only if no exceptions occur in the try block.\n",
        "- Helps separate normal execution logic from error-handling logic.\n",
        "- Improves code readability and maintainability.\n",
        "\n",
        "#17 What are the common logging levels in Python ?\n",
        "- DEBUG: Detailed information for diagnosing problems.\n",
        "- INFO: General information about program execution.\n",
        "- WARNING: Indicates a potential problem that is not critical.\n",
        "- ERROR: Represents a significant issue that affects execution.\n",
        "- CRITICAL: Indicates a severe problem that may cause program termination.\n",
        "\n",
        "#18 What is the difference between os.fork() and multiprocessing in Python\n",
        "- os.fork():\n",
        "  - Creates a child process that is an exact duplicate of the parent.\n",
        "  - Works only on Unix-based systems (not Windows).\n",
        "  - Requires manual inter-process communication.\n",
        "- multiprocessing Module:\n",
        "  - Creates separate processes using Python’s multiprocessing library.\n",
        "  - Portable across different operating systems.\n",
        "  - Easier to implement and manage with built-in features like process pools.\n",
        "\n",
        "#19 What is the importance of closing a file in Python\n",
        "- Releases system resources used by the file.\n",
        "- Prevents memory leaks and potential data corruption.\n",
        "- Ensures all written data is saved properly.\n",
        "- Avoids file locking issues that may prevent other programs from accessing it.\n",
        "\n",
        "#20 What is the difference between file.read() and file.readline() in Python\n",
        "- file.read(size): Reads the entire file or a specific number of characters.\n",
        "- file.readline(): Reads only one line at a time from the file.\n",
        "\n",
        "#21 What is the logging module in Python used for\n",
        "- Provides a flexible system for recording log messages in Python applications.\n",
        "- Supports different log levels to categorize messages.\n",
        "- Allows saving logs to files, streams, or remote servers.\n",
        "- Helps in debugging, monitoring, and auditing applications.\n",
        "\n",
        "#22 What is the os module in Python used for in file handling\n",
        "- Provides functions for interacting with the operating system.\n",
        "- Supports file and directory operations like renaming, deleting, and moving files.\n",
        "- Enables accessing file metadata such as size and permissions.\n",
        "- Helps in executing system commands from Python scripts.\n",
        "\n",
        "#23 What are the challenges associated with memory management in Python\n",
        "- Garbage Collection Overhead: Frequent memory cleanup can impact performance.\n",
        "- Reference Cycles: Circular references may delay garbage collection.\n",
        "- Memory Fragmentation: Allocating and deallocating memory can lead to inefficient memory usage.\n",
        "- Global Interpreter Lock (GIL): Limits true parallel execution in multithreaded programs.\n",
        "\n",
        "#24 How do you raise an exception manually in Python?\n",
        "- Use the raise keyword followed by the exception type.\n",
        "  - Example:\n",
        "        raise ValueError(\"Invalid input!\")\n",
        "- Helps enforce constraints and validate user input in applications.\n",
        "\n",
        "#25 Why is it important to use multithreading in certain applications\n",
        "- Improves efficiency in I/O-bound tasks like web scraping, file handling, and API requests.\n",
        "- Enhances responsiveness in GUI applications by running background tasks.\n",
        "- Allows concurrent execution of tasks without creating separate processes.\n",
        "- Reduces waiting time when performing multiple operations simultaneously."
      ],
      "metadata": {
        "id": "7XKamngpd8Xm"
      }
    },
    {
      "cell_type": "code",
      "execution_count": 1,
      "metadata": {
        "id": "k-1vN-YsdyXt",
        "colab": {
          "base_uri": "https://localhost:8080/"
        },
        "outputId": "ba173342-cd6c-426e-b8fb-a34280b7ce11"
      },
      "outputs": [
        {
          "output_type": "stream",
          "name": "stdout",
          "text": [
            "File written successfully!\n"
          ]
        }
      ],
      "source": [
        "#1 How can you open a file for writing in Python and write a string to it\n",
        "with open(\"example.txt\", \"w\") as file:\n",
        "    file.write(\"Hello, this is a test string!\")\n",
        "\n",
        "print(\"File written successfully!\")"
      ]
    },
    {
      "cell_type": "code",
      "source": [
        "#2 Write a Python program to read the contents of a file and print each lineF\n",
        "# Open the file in read mode ('r')\n",
        "with open(\"example.txt\", \"r\") as file:\n",
        "    for line in file:\n",
        "        print(line.strip())\n",
        "\n",
        "print(\"File read successfully!\")"
      ],
      "metadata": {
        "colab": {
          "base_uri": "https://localhost:8080/"
        },
        "id": "P2vJbzngoo3R",
        "outputId": "acff1dff-efe5-4613-c08c-2a3f98a95112"
      },
      "execution_count": 2,
      "outputs": [
        {
          "output_type": "stream",
          "name": "stdout",
          "text": [
            "Hello, this is a test string!\n",
            "File read successfully!\n"
          ]
        }
      ]
    },
    {
      "cell_type": "code",
      "source": [
        "#3  How would you handle a case where the file doesn't exist while trying to open it for reading\n",
        "try:\n",
        "    # Try to open the file in read mode\n",
        "    with open(\"example.txt\", \"r\") as file:\n",
        "        for line in file:\n",
        "            print(line.strip())  # strip() removes leading/trailing whitespace\n",
        "except FileNotFoundError:\n",
        "    print(\"The file does not exist.\")"
      ],
      "metadata": {
        "colab": {
          "base_uri": "https://localhost:8080/"
        },
        "id": "AT73ChZzo1NK",
        "outputId": "e7f1ae1e-cbb2-4d5a-9b1c-aa1becdf8c7e"
      },
      "execution_count": 3,
      "outputs": [
        {
          "output_type": "stream",
          "name": "stdout",
          "text": [
            "Hello, this is a test string!\n"
          ]
        }
      ]
    },
    {
      "cell_type": "code",
      "source": [
        "#4 Write a Python script that reads from one file and writes its content to another file\n",
        "\n",
        "try:\n",
        "    with open(\"example.txt\", \"r\") as source_file, open(\"destination.txt\", \"w\") as dest_file:\n",
        "        content = source_file.read()\n",
        "        dest_file.write(content)\n",
        "\n",
        "    print(\"Content copied successfully!\")\n",
        "except FileNotFoundError:\n",
        "    print(\"Source file not found.\")\n",
        "except Exception as e:\n",
        "    print(f\"An error occurred: {e}\")"
      ],
      "metadata": {
        "colab": {
          "base_uri": "https://localhost:8080/"
        },
        "id": "2-nNYfJzpDHZ",
        "outputId": "e8aeb915-e611-4c7e-fe09-268b48b4eef2"
      },
      "execution_count": 5,
      "outputs": [
        {
          "output_type": "stream",
          "name": "stdout",
          "text": [
            "Content copied successfully!\n"
          ]
        }
      ]
    },
    {
      "cell_type": "code",
      "source": [
        "#5  How would you catch and handle division by zero error in Python\n",
        "try:\n",
        "    # Attempt to divide two numbers\n",
        "    numerator = 10\n",
        "    denominator = 0\n",
        "    result = numerator / denominator\n",
        "    print(\"The result is:\", result)\n",
        "except ZeroDivisionError:\n",
        "    print(\"Error: Division by zero is not allowed.\")"
      ],
      "metadata": {
        "colab": {
          "base_uri": "https://localhost:8080/"
        },
        "id": "75L5YmwppTi1",
        "outputId": "2078f585-fa94-4ba8-8c36-7800e040d0f9"
      },
      "execution_count": 6,
      "outputs": [
        {
          "output_type": "stream",
          "name": "stdout",
          "text": [
            "Error: Division by zero is not allowed.\n"
          ]
        }
      ]
    },
    {
      "cell_type": "code",
      "source": [
        "#6  Write a Python program that logs an error message to a log file when a division by zero exception occurs\n",
        "import logging\n",
        "\n",
        "\n",
        "logging.basicConfig(filename=\"error_log.txt\", level=logging.ERROR,\n",
        "                    format=\"%(asctime)s - %(levelname)s - %(message)s\")\n",
        "\n",
        "try:\n",
        "    numerator = 10\n",
        "    denominator = 0\n",
        "    result = numerator / denominator\n",
        "    print(\"The result is:\", result)\n",
        "except ZeroDivisionError as e:\n",
        "    logging.error(\"Division by zero error: %s\", e)\n",
        "    print(\"An error occurred. Check the log file for details.\")"
      ],
      "metadata": {
        "colab": {
          "base_uri": "https://localhost:8080/"
        },
        "id": "jr61OrKFpcJ-",
        "outputId": "1ec18580-bd8d-4115-8bcf-c94e956864f7"
      },
      "execution_count": 8,
      "outputs": [
        {
          "output_type": "stream",
          "name": "stderr",
          "text": [
            "ERROR:root:Division by zero error: division by zero\n"
          ]
        },
        {
          "output_type": "stream",
          "name": "stdout",
          "text": [
            "An error occurred. Check the log file for details.\n"
          ]
        }
      ]
    },
    {
      "cell_type": "code",
      "source": [
        "#7 How do you log information at different levels (INFO, ERROR, WARNING) in Python using the logging module\n",
        "import logging\n",
        "\n",
        "# Set up the logging configuration\n",
        "logging.basicConfig(filename=\"app_log.txt\", level=logging.DEBUG,\n",
        "                    format=\"%(asctime)s - %(levelname)s - %(message)s\")\n",
        "logging.info(\"This is an info message.\")\n",
        "logging.warning(\"This is a warning message.\")\n",
        "logging.error(\"This is an error message.\")\n",
        "logging.debug(\"This is a debug message.\")\n",
        "logging.critical(\"This is a critical message.\")"
      ],
      "metadata": {
        "colab": {
          "base_uri": "https://localhost:8080/"
        },
        "id": "Heep6_yDprx4",
        "outputId": "a90ceb0d-054b-4b26-9fb1-cc3b09996501"
      },
      "execution_count": 9,
      "outputs": [
        {
          "output_type": "stream",
          "name": "stderr",
          "text": [
            "WARNING:root:This is a warning message.\n",
            "ERROR:root:This is an error message.\n",
            "CRITICAL:root:This is a critical message.\n"
          ]
        }
      ]
    },
    {
      "cell_type": "code",
      "source": [
        "#8 Write a program to handle a file opening error using exception handling\n",
        "try:\n",
        "    with open(\"non_existent_file.txt\", \"r\") as file:\n",
        "        content = file.read()\n",
        "        print(content)\n",
        "\n",
        "except FileNotFoundError:\n",
        "    print(\"Error: The file does not exist. Please check the file name and path.\")\n",
        "\n",
        "except Exception as e:\n",
        "    print(f\"An unexpected error occurred: {e}\")"
      ],
      "metadata": {
        "colab": {
          "base_uri": "https://localhost:8080/"
        },
        "id": "KVXNeqOKqBqJ",
        "outputId": "ec2385a6-55b4-47ac-cf78-f6ff3f155019"
      },
      "execution_count": 12,
      "outputs": [
        {
          "output_type": "stream",
          "name": "stdout",
          "text": [
            "Error: The file does not exist. Please check the file name and path.\n"
          ]
        }
      ]
    },
    {
      "cell_type": "code",
      "source": [
        "#9  How can you read a file line by line and store its content in a list in Python ?\n",
        "# Open the file in read mode ('r')\n",
        "with open(\"requirements.txt\", \"r\") as file:\n",
        "    lines = file.readlines()\n",
        "print(lines)"
      ],
      "metadata": {
        "colab": {
          "base_uri": "https://localhost:8080/"
        },
        "id": "gtWBfsBQqViH",
        "outputId": "8cf2e92e-e306-4a08-b9b8-3e7032fa4747"
      },
      "execution_count": 13,
      "outputs": [
        {
          "output_type": "stream",
          "name": "stdout",
          "text": [
            "['pip                     24.3.1\\n', 'requests                2.32.3\\n', 'python-dotenv           1.0.1\\n', 'streamlit               1.40.0\\n', 'openai                  1.54.3\\n', 'wikipedia-api           0.7.1\\n', 'transformers            4.46.2\\n', 'sentence-transformers   3.2.1\\n', 'faiss-cpu               1.9.0\\n', 'spacy                   3.8.2\\n', 'spacy-legacy            3.0.12\\n', 'spacy-loggers           1.0.5\\n', 'pdfminer.six            20240706\\n', 'PyPDF2                  3.0.1\\n', 'pdfplumber              0.11.4 \\n', 'pypdfium2               4.30.0']\n"
          ]
        }
      ]
    },
    {
      "cell_type": "code",
      "source": [
        "#10 How can you append data to an existing file in Python\n",
        "with open(\"example.txt\", \"a\") as file:\n",
        "    # Append new data to the file\n",
        "    file.write(\"This is a new line of text.\\n\")\n",
        "\n",
        "print(\"Data appended successfully!\")"
      ],
      "metadata": {
        "colab": {
          "base_uri": "https://localhost:8080/"
        },
        "id": "-rmsu3pMqvhh",
        "outputId": "eb4f5cca-9728-45e2-f657-4d91cd790d28"
      },
      "execution_count": 15,
      "outputs": [
        {
          "output_type": "stream",
          "name": "stdout",
          "text": [
            "Data appended successfully!\n"
          ]
        }
      ]
    },
    {
      "cell_type": "code",
      "source": [
        "#11  Write a Python program that uses a try-except block to handle an error when attempting to access a dictionary key that doesn't exist\n",
        "# Example dictionary\n",
        "my_dict = {\"name\": \"Alice\", \"age\": 25, \"city\": \"New York\"}\n",
        "\n",
        "try:\n",
        "    # Attempt to access a key that doesn't exist in the dictionary\n",
        "    value = my_dict[\"country\"]\n",
        "    print(\"The value is:\", value)\n",
        "\n",
        "except KeyError:\n",
        "    print(\"Error: The key 'country' does not exist in the dictionary.\")"
      ],
      "metadata": {
        "colab": {
          "base_uri": "https://localhost:8080/"
        },
        "id": "ouohNXPvqyj0",
        "outputId": "4a4b9c07-33e6-413b-8111-71a24fd22a5f"
      },
      "execution_count": 16,
      "outputs": [
        {
          "output_type": "stream",
          "name": "stdout",
          "text": [
            "Error: The key 'country' does not exist in the dictionary.\n"
          ]
        }
      ]
    },
    {
      "cell_type": "code",
      "source": [
        "#12 Write a program that demonstrates using multiple except blocks to handle different types of exceptions\n",
        "try:\n",
        "    num1 = int(input(\"Enter the first number: \"))\n",
        "    num2 = int(input(\"Enter the second number: \"))\n",
        "\n",
        "    result = num1 / num2\n",
        "    print(\"The result is:\", result)\n",
        "\n",
        "except ValueError:\n",
        "    print(\"Error: Please enter valid integers.\")\n",
        "\n",
        "except ZeroDivisionError:\n",
        "    print(\"Error: Division by zero is not allowed.\")\n",
        "\n",
        "except Exception as e:\n",
        "    print(f\"An unexpected error occurred: {e}\")"
      ],
      "metadata": {
        "colab": {
          "base_uri": "https://localhost:8080/"
        },
        "id": "_dlC1-tUrJ_w",
        "outputId": "75c33741-05d3-450d-9f7a-dea98b5faf31"
      },
      "execution_count": 17,
      "outputs": [
        {
          "output_type": "stream",
          "name": "stdout",
          "text": [
            "Enter the first number: 6\n",
            "Enter the second number: 9\n",
            "The result is: 0.6666666666666666\n"
          ]
        }
      ]
    },
    {
      "cell_type": "code",
      "source": [
        "#13 How would you check if a file exists before attempting to read it in Python\n",
        "import os\n",
        "\n",
        "file_path = \"example.txt\"\n",
        "\n",
        "if os.path.exists(file_path):\n",
        "    with open(file_path, \"r\") as file:\n",
        "        content = file.read()\n",
        "        print(content)\n",
        "else:\n",
        "    print(f\"The file '{file_path}' does not exist.\")\n"
      ],
      "metadata": {
        "colab": {
          "base_uri": "https://localhost:8080/"
        },
        "id": "puoc9upFra5A",
        "outputId": "27d4708f-e927-42bc-c4d2-bedf33dbfbf2"
      },
      "execution_count": 19,
      "outputs": [
        {
          "output_type": "stream",
          "name": "stdout",
          "text": [
            "Hello, this is a test string!This is a new line of text.\n",
            "\n"
          ]
        }
      ]
    },
    {
      "cell_type": "code",
      "source": [
        "#14 Write a program that uses the logging module to log both informational and error messages\n",
        "import logging\n",
        "\n",
        "logging.basicConfig(filename=\"app.log\", level=logging.DEBUG,\n",
        "                    format=\"%(asctime)s - %(levelname)s - %(message)s\")\n",
        "logging.info(\"This is an informational message.\")\n",
        "logging.warning(\"This is a warning message.\")\n",
        "logging.error(\"This is an error message.\")\n",
        "logging.critical(\"This is a critical message.\")\n",
        "\n",
        "try:\n",
        "    num1 = 10\n",
        "    num2 = 0\n",
        "    result = num1 / num2\n",
        "except ZeroDivisionError as e:\n",
        "    logging.error(f\"Error occurred: {e}\")\n"
      ],
      "metadata": {
        "colab": {
          "base_uri": "https://localhost:8080/"
        },
        "id": "PiFQ32LwroUi",
        "outputId": "c25b9d75-ca63-4e52-88c8-8fe7cf961d0f"
      },
      "execution_count": 18,
      "outputs": [
        {
          "output_type": "stream",
          "name": "stderr",
          "text": [
            "WARNING:root:This is a warning message.\n",
            "ERROR:root:This is an error message.\n",
            "CRITICAL:root:This is a critical message.\n",
            "ERROR:root:Error occurred: division by zero\n"
          ]
        }
      ]
    },
    {
      "cell_type": "code",
      "source": [
        "#15 Write a Python program that prints the content of a file and handles the case when the file is empty\n",
        "def read_file(file_path):\n",
        "    try:\n",
        "        with open(file_path, \"r\") as file:\n",
        "            content = file.read()\n",
        "\n",
        "            if content:  # Check if the file is not empty\n",
        "                print(\"File Content:\")\n",
        "                print(content)\n",
        "            else:\n",
        "                print(\"The file is empty.\")\n",
        "\n",
        "    except FileNotFoundError:\n",
        "        print(f\"Error: The file '{file_path}' was not found.\")\n",
        "    except Exception as e:\n",
        "        print(f\"An unexpected error occurred: {e}\")\n",
        "\n",
        "# Example usage\n",
        "file_path = \"example.txt\"\n",
        "read_file(file_path)"
      ],
      "metadata": {
        "colab": {
          "base_uri": "https://localhost:8080/"
        },
        "id": "LyevA9KssCXB",
        "outputId": "1791aa82-ce42-46ff-ffcc-36a5957b092e"
      },
      "execution_count": 23,
      "outputs": [
        {
          "output_type": "stream",
          "name": "stdout",
          "text": [
            "File Content:\n",
            "Hello, this is a test string!This is a new line of text.\n",
            "\n"
          ]
        }
      ]
    },
    {
      "cell_type": "code",
      "source": [
        "#16 Demonstrate how to use memory profiling to check the memory usage of a small program\n",
        "import sys\n",
        "\n",
        "# Function to monitor memory usage\n",
        "def my_function():\n",
        "    a = [i for i in range(10000)]  # Create a list to consume memory\n",
        "    b = [i**2 for i in range(10000)]  # Another list to consume memory\n",
        "    print(f\"Memory usage of a: {sys.getsizeof(a)} bytes\")  # Memory usage of list a\n",
        "    print(f\"Memory usage of b: {sys.getsizeof(b)} bytes\")  # Memory usage of list b\n",
        "    c = sum(a)  # Perform some computation\n",
        "    d = sum(b)  # Perform another computation\n",
        "    print(f\"Memory usage after computation: {sys.getsizeof(c)} bytes\")  # Memory usage of sum\n",
        "\n",
        "# Main block\n",
        "if __name__ == \"__main__\":\n",
        "    my_function()\n"
      ],
      "metadata": {
        "colab": {
          "base_uri": "https://localhost:8080/"
        },
        "id": "0N7bgfacsach",
        "outputId": "82d300d7-dd97-4c34-d789-2bb5500747b8"
      },
      "execution_count": 26,
      "outputs": [
        {
          "output_type": "stream",
          "name": "stdout",
          "text": [
            "Memory usage of a: 85176 bytes\n",
            "Memory usage of b: 85176 bytes\n",
            "Memory usage after computation: 28 bytes\n"
          ]
        }
      ]
    },
    {
      "cell_type": "code",
      "source": [
        "#17 Write a Python program to create and write a list of numbers to a file, one number per line\n",
        "numbers = [1, 2, 3, 4, 5, 6, 7, 8, 9, 10]\n",
        "\n",
        "# Open the file in write mode\n",
        "with open(\"numbers.txt\", \"w\") as file:\n",
        "    for number in numbers:\n",
        "        file.write(f\"{number}\\n\")\n",
        "\n",
        "print(\"Numbers have been written to 'numbers.txt'.\")"
      ],
      "metadata": {
        "colab": {
          "base_uri": "https://localhost:8080/"
        },
        "id": "7k3XBx7jtARx",
        "outputId": "56c0e225-275d-4152-8517-9a4ae8a7a783"
      },
      "execution_count": 27,
      "outputs": [
        {
          "output_type": "stream",
          "name": "stdout",
          "text": [
            "Numbers have been written to 'numbers.txt'.\n"
          ]
        }
      ]
    },
    {
      "cell_type": "code",
      "source": [
        "#18 How would you implement a basic logging setup that logs to a file with rotation after 1MB ?\n",
        "\n",
        "import logging\n",
        "from logging.handlers import RotatingFileHandler\n",
        "\n",
        "# Create a logger\n",
        "logger = logging.getLogger(\"MyLogger\")\n",
        "logger.setLevel(logging.DEBUG)\n",
        "log_handler = RotatingFileHandler(\"my_log.log\", maxBytes=1e6, backupCount=3)\n",
        "log_handler.setLevel(logging.DEBUG)\n",
        "formatter = logging.Formatter('%(asctime)s - %(name)s - %(levelname)s - %(message)s')\n",
        "log_handler.setFormatter(formatter)\n",
        "logger.addHandler(log_handler)\n",
        "\n",
        "# Test logging\n",
        "logger.debug(\"This is a debug message.\")\n",
        "logger.info(\"This is an info message.\")\n",
        "logger.warning(\"This is a warning message.\")\n",
        "logger.error(\"This is an error message.\")\n",
        "logger.critical(\"This is a critical message.\")"
      ],
      "metadata": {
        "colab": {
          "base_uri": "https://localhost:8080/"
        },
        "id": "dK0dbLnjtL52",
        "outputId": "c01faa24-223a-468f-d750-7f0edcb3dab1"
      },
      "execution_count": 28,
      "outputs": [
        {
          "output_type": "stream",
          "name": "stderr",
          "text": [
            "DEBUG:MyLogger:This is a debug message.\n",
            "INFO:MyLogger:This is an info message.\n",
            "WARNING:MyLogger:This is a warning message.\n",
            "ERROR:MyLogger:This is an error message.\n",
            "CRITICAL:MyLogger:This is a critical message.\n"
          ]
        }
      ]
    },
    {
      "cell_type": "code",
      "source": [
        "#19 Write a program that handles both IndexError and KeyError using a try-except block\n",
        "try:\n",
        "    # Trying to access a non-existing index in the list\n",
        "    my_list = [1, 2, 3]\n",
        "    print(my_list[5])  # IndexError\n",
        "\n",
        "    # Trying to access a non-existing key in the dictionary\n",
        "    my_dict = {\"name\": \"John\", \"age\": 30}\n",
        "    print(my_dict[\"address\"])  # KeyError\n",
        "\n",
        "except IndexError as e:\n",
        "    print(f\"IndexError occurred: {e}\")\n",
        "\n",
        "except KeyError as e:\n",
        "    print(f\"KeyError occurred: {e}\")\n"
      ],
      "metadata": {
        "colab": {
          "base_uri": "https://localhost:8080/"
        },
        "id": "Xxa7wFAjtcTX",
        "outputId": "6d9783c2-73bc-4705-98ae-6c92d6ecad5e"
      },
      "execution_count": 29,
      "outputs": [
        {
          "output_type": "stream",
          "name": "stdout",
          "text": [
            "IndexError occurred: list index out of range\n"
          ]
        }
      ]
    },
    {
      "cell_type": "code",
      "source": [
        "#20  How would you open a file and read its contents using a context manager in Python\n",
        "with open(\"example.txt\", \"r\") as file:\n",
        "    content = file.read()\n",
        "    print(content)"
      ],
      "metadata": {
        "colab": {
          "base_uri": "https://localhost:8080/"
        },
        "id": "uZcrrce8tnMy",
        "outputId": "5eaefc1b-e55f-403f-d118-37b3b9a5c86a"
      },
      "execution_count": 30,
      "outputs": [
        {
          "output_type": "stream",
          "name": "stdout",
          "text": [
            "Hello, this is a test string!This is a new line of text.\n",
            "\n"
          ]
        }
      ]
    },
    {
      "cell_type": "code",
      "source": [
        "#21 Write a Python program that reads a file and prints the number of occurrences of a specific wordF\n",
        "\n",
        "def count_word_occurrences(file_name, word):\n",
        "    try:\n",
        "        with open(file_name, \"r\") as file:\n",
        "            content = file.read()\n",
        "            word_count = content.lower().count(word.lower())  # Case-insensitive count\n",
        "            print(f\"The word '{word}' appears {word_count} times in the file.\")\n",
        "    except FileNotFoundError:\n",
        "        print(f\"The file '{file_name}' does not exist.\")\n",
        "\n",
        "# Example usage\n",
        "count_word_occurrences(\"example.txt\", \"python\")"
      ],
      "metadata": {
        "colab": {
          "base_uri": "https://localhost:8080/"
        },
        "id": "0b3CxRKJtsqE",
        "outputId": "9bd9826b-c581-49f3-8781-efda8d1624bc"
      },
      "execution_count": 31,
      "outputs": [
        {
          "output_type": "stream",
          "name": "stdout",
          "text": [
            "The word 'python' appears 0 times in the file.\n"
          ]
        }
      ]
    },
    {
      "cell_type": "code",
      "source": [
        "#22 How can you check if a file is empty before attempting to read its contents\n",
        "import os\n",
        "\n",
        "def read_file_if_not_empty(file_name):\n",
        "    if os.path.getsize(file_name) > 0:\n",
        "        with open(file_name, \"r\") as file:\n",
        "            content = file.read()\n",
        "            print(content)\n",
        "    else:\n",
        "        print(f\"The file '{file_name}' is empty.\")\n",
        "\n",
        "# Example usage\n",
        "read_file_if_not_empty(\"example.txt\")"
      ],
      "metadata": {
        "colab": {
          "base_uri": "https://localhost:8080/"
        },
        "id": "ls_1qqYmtv4a",
        "outputId": "6bae69fe-f797-4d42-c34c-0f201f33c7d1"
      },
      "execution_count": 32,
      "outputs": [
        {
          "output_type": "stream",
          "name": "stdout",
          "text": [
            "Hello, this is a test string!This is a new line of text.\n",
            "\n"
          ]
        }
      ]
    },
    {
      "cell_type": "code",
      "source": [
        "#23  Write a Python program that writes to a log file when an error occurs during file handling\n",
        "import logging\n",
        "\n",
        "# Set up logging\n",
        "logging.basicConfig(filename='file_handling_error.log', level=logging.ERROR,\n",
        "                    format='%(asctime)s - %(levelname)s - %(message)s')\n",
        "\n",
        "def read_file(file_name):\n",
        "    try:\n",
        "        with open(file_name, \"r\") as file:\n",
        "            content = file.read()\n",
        "            print(content)\n",
        "    except Exception as e:\n",
        "        logging.error(f\"Error while handling the file: {e}\")\n",
        "        print(f\"An error occurred: {e}\")\n",
        "\n",
        "# Example usage\n",
        "read_file(\"non_existent_file.txt\")"
      ],
      "metadata": {
        "colab": {
          "base_uri": "https://localhost:8080/"
        },
        "id": "XFAOEnJMtxek",
        "outputId": "1c28ce8f-2258-437e-a03b-fe886880d265"
      },
      "execution_count": 33,
      "outputs": [
        {
          "output_type": "stream",
          "name": "stderr",
          "text": [
            "ERROR:root:Error while handling the file: [Errno 2] No such file or directory: 'non_existent_file.txt'\n"
          ]
        },
        {
          "output_type": "stream",
          "name": "stdout",
          "text": [
            "An error occurred: [Errno 2] No such file or directory: 'non_existent_file.txt'\n"
          ]
        }
      ]
    }
  ]
}